{
 "cells": [
  {
   "cell_type": "markdown",
   "metadata": {},
   "source": [
    "## Hồi quy tuyến tính\n",
    "### 1. Mô hình hồi quy tuyến tính\n",
    "$$h(x) = \\beta_0 + \\beta_1x_1 + ... + \\beta_n x_n$$ \n",
    "\n",
    "Để cho đơn giản ta có thể bổ sung tham số giả $x_0 = 1$. Khi đó công thức trên sẽ được viết lại như sau:\n",
    "\n",
    "$$h(x) = \\sum_{i=0}^{n} \\beta_i x_i$$\n",
    "\n",
    "### 2. Hàm lỗi\n",
    "Ta có hàm lỗi như sau:\n",
    "$$J(\\beta) = \\frac{1}{2} \\sum_{i=1}^{m} (h(x_i) - y_i)^2$$\n",
    "$$= \\frac{1}{2} \\sum_{i=1}^{m} (\\sum_{j=0}^{n} (\\beta_j x_{ij} - y_i)^2)$$\n",
    "\n",
    "trong đó $m$ là số ví dụ trong tập huấn luyện. *Mục tiêu của việc huấn luyện mô hình* là xác định tham số $\\beta_i$ sao cho hàm lỗi $J$ đạt giá trị nhỏ nhất."
   ]
  },
  {
   "cell_type": "markdown",
   "metadata": {},
   "source": [
    "### 3. Xác định tham số bằng cách giải phương trình tuyến tính\n",
    "Cho dữ liệu có $m$ dữ liệu huấn luyện và mỗi dữ liệu huấn luyện có $n$ đặc trưng, ta có công thức giải phương trình tuyến tính sau đây:\n",
    "\n",
    "$$\\beta = (X^T X)^{-1} X^T Y$$\n",
    "\n",
    "Với,\n",
    "\n",
    "$X = \n",
    "\\begin{bmatrix}\n",
    "    1 & x_{1,1} & x_{1,2} & \\cdots & x_{1, n} \\\\\n",
    "    1 & x_{2,1} & x_{2,2} & \\cdots & x_{2, n} \\\\\n",
    "    \\vdots & \\vdots & \\vdots & \\ddots & \\vdots \\\\\n",
    "    1 & x_{m,1} & x_{m,2} & \\cdots & x_{m, n}\n",
    "\\end{bmatrix}\n",
    "$,\n",
    "\n",
    "$Y = \n",
    "\\begin{bmatrix}\n",
    "    y_{1} \\\\\n",
    "    y_{2} \\\\\n",
    "    \\vdots \\\\\n",
    "    y_{m} \\\\\n",
    "\\end{bmatrix}\n",
    "$,\n",
    "\n",
    "$\\beta = \n",
    "\\begin{bmatrix}\n",
    "    \\beta_{0} & \\beta_{1} & \\cdots & \\beta_{n}\n",
    "\\end{bmatrix}\n",
    "$\n",
    "\n",
    "Sau đây sẽ là một bài toán hồi quy tuyến tính sử dụng 80 dữ liệu mẫu, mỗi dữ liệu mẫu sẽ chỉ có 1 đặc trưng"
   ]
  },
  {
   "cell_type": "code",
   "execution_count": 2,
   "metadata": {},
   "outputs": [],
   "source": [
    "import numpy as np\n",
    "import pandas as pd\n",
    "import matplotlib.pyplot as plt"
   ]
  },
  {
   "cell_type": "code",
   "execution_count": 3,
   "metadata": {},
   "outputs": [],
   "source": [
    "data = pd.read_csv(\"1.01. Simple linear regression.csv\")"
   ]
  },
  {
   "cell_type": "code",
   "execution_count": 188,
   "metadata": {},
   "outputs": [],
   "source": [
    "x = data['SAT']\n",
    "y = data['GPA']\n",
    "X = np.array(x)\n",
    "Y = np.array(y)"
   ]
  },
  {
   "cell_type": "code",
   "execution_count": 189,
   "metadata": {},
   "outputs": [],
   "source": [
    "def normal_equation_linear_regression(X: np.array, Y: np.array) -> np.array:\n",
    "    intercept_ones = np.ones((len(X), 1))\n",
    "    X_b = np.c_[intercept_ones, X]\n",
    "    beta_optimal = np.linalg.inv(X_b.T.dot(X_b)).dot(X_b.T).dot(Y)\n",
    "    return beta_optimal"
   ]
  },
  {
   "cell_type": "code",
   "execution_count": 190,
   "metadata": {},
   "outputs": [
    {
     "data": {
      "text/plain": [
       "array([0.2750403 , 0.00165569])"
      ]
     },
     "execution_count": 190,
     "metadata": {},
     "output_type": "execute_result"
    }
   ],
   "source": [
    "beta_normal_equation = normal_equation_linear_regression(X, Y)\n",
    "beta_normal_equation"
   ]
  },
  {
   "cell_type": "code",
   "execution_count": 191,
   "metadata": {},
   "outputs": [
    {
     "data": {
      "image/png": "[encoded data removed]",
      "text/plain": [
       "<Figure size 640x480 with 1 Axes>"
      ]
     },
     "metadata": {},
     "output_type": "display_data"
    }
   ],
   "source": [
    "\n",
    "h_predict_normal_equation = [np.matrix([1, i]).dot(beta_normal_equation).flat[0] for i in x]\n",
    "plt.plot(x, h_predict_normal_equation, \"g-\")\n",
    "plt.plot(x, y, \"b.\")\n",
    "plt.xlabel('SAT')\n",
    "plt.ylabel('GPA')\n",
    "plt.show()"
   ]
  },
  {
   "cell_type": "markdown",
   "metadata": {},
   "source": [
    "### 4. Xác định tham số bằng phương pháp giảm gradient\n",
    "#### 4.1. Batch gradient descent\n",
    "for (j = 0 to n) \\{\n",
    "    \\\n",
    "    $\\beta_j$ &larr; $\\beta_j + \\alpha \\sum_{i=1}^{m} (y_i - h(x_i))x_{ij}$\n",
    "    \\\n",
    "\\}"
   ]
  },
  {
   "cell_type": "code",
   "execution_count": 263,
   "metadata": {},
   "outputs": [],
   "source": [
    "def batch_gradient_descent(X, Y, num_iterations, alpha):\n",
    "    beta = [0, 0]\n",
    "    for _ in range(num_iterations):\n",
    "        H = np.array([])\n",
    "        for i in X:\n",
    "            H = np.append(H, beta[0] + beta[1] * i)\n",
    "        beta[0] += alpha * np.sum(Y - H)\n",
    "        beta[1] += alpha * np.sum((Y - H) * X)\n",
    "    return beta\n",
    "\n",
    "        \n",
    "\n"
   ]
  },
  {
   "cell_type": "code",
   "execution_count": null,
   "metadata": {},
   "outputs": [],
   "source": [
    "beta_batch_gradient_descent = batch_gradient_descent(X, Y, 2, 0.01)\n",
    "h_predict_batch_gradient_descent = np.array([])\n",
    "for i in X:\n",
    "    h_predict_batch_gradient_descent = np.append(\n",
    "        h_predict_batch_gradient_descent, \n",
    "        beta_batch_gradient_descent[0] + beta_batch_gradient_descent[1] * i\n",
    "    )\n",
    "print(h_predict_batch_gradient_descent)\n",
    "plt.plot(X, h_predict_batch_gradient_descent, \"g-\")\n",
    "plt.plot(X, Y, \"b.\")\n",
    "plt.xlabel('SAT')\n",
    "plt.ylabel('GPA')\n",
    "plt.show()"
   ]
  },
  {
   "cell_type": "code",
   "execution_count": 285,
   "metadata": {},
   "outputs": [],
   "source": [
    "def stochastic_gradient_descent(X, Y, alpha):\n",
    "    m = len(Y)\n",
    "    beta = [0, 0]\n",
    "    for i in range(m):\n",
    "        h = beta[0] + beta[1] * X[i]\n",
    "        beta[0] += alpha * (Y[i] - h)\n",
    "        beta[1] += alpha * (Y[i] - h) * X[i]\n",
    "        print(beta)"
   ]
  },
  {
   "cell_type": "code",
   "execution_count": 286,
   "metadata": {},
   "outputs": [
    {
     "name": "stdout",
     "output_type": "stream",
     "text": [
      "[0.024, 41.136]\n",
      "[-684.4540800000001, -1138930.3891200002]\n",
      "[20044497.264372803, 35278380894.087814]\n",
      "[-594420874013.0605, -1001597669309003.4]\n",
      "[1.6956460064736152e+16, 2.8707291646468702e+19]\n",
      "[-4.793949836005632e+20, -8.005892326096023e+23]\n",
      "[1.4121919462199622e+25, 2.4911110994838593e+28]\n",
      "[-4.394180172486852e+29, -7.75133382381617e+32]\n",
      "[1.3889955188441501e+34, 2.48908120013917e+37]\n",
      "[-4.6046627097010976e+38, -8.518634068998003e+41]\n",
      "[1.4779374248103274e+43, 2.5642161366032416e+46]\n",
      "[-4.551337326665697e+47, -8.078629667110856e+50]\n",
      "[1.4015971890041997e+52, 2.4317693023282332e+55]\n",
      "[-4.163050287464224e+56, -7.1271388686472755e+59]\n",
      "[1.2636005072133161e+61, 2.2403662387821198e+64]\n",
      "[-4.193840502549914e+65, -7.850881930164511e+68]\n",
      "[1.3777882597228965e+70, 2.4180134888952017e+73]\n",
      "[-4.047618179372855e+74, -6.775701672675947e+77]\n",
      "[1.2480441766869338e+79, 2.2989041735674695e+82]\n",
      "[-4.1057192976180083e+83, -7.332807675818363e+86]\n",
      "[1.2912667850905672e+88, 2.2739197821845622e+91]\n",
      "[-3.9155620295100923e+92, -6.742592778978553e+95]\n",
      "[1.1212544150800412e+97, 1.864643782146869e+100]\n",
      "[-3.145543056294675e+101, -5.306533827210727e+104]\n",
      "[1.0474786366151403e+106, 2.0677318563599464e+109]\n",
      "[-3.7755746693282375e+110, -6.894183842606771e+113]\n",
      "[1.2319532744846036e+115, 2.201499029184901e+118]\n",
      "[-4.008807768771531e+119, -7.300043135721324e+122]\n",
      "[1.474569026218797e+124, 2.978637410447542e+127]\n",
      "[-5.3435295320092935e+128, -9.586258654366933e+131]\n",
      "[1.6957562550151436e+133, 2.9997914795726665e+136]\n",
      "[-5.801428841624291e+137, -1.121999135981314e+141]\n",
      "[1.9914910322213004e+142, 3.534887357641149e+145]\n",
      "[-6.557018890812142e+146, -1.2163285975307237e+150]\n",
      "[2.2866328488707418e+151, 4.298871394972388e+154]\n",
      "[-7.948386832651908e+155, -1.4696560164847637e+159]\n",
      "[2.6570593887748094e+160, 4.803960116137141e+163]\n",
      "[-9.386675018052485e+164, -1.8341601778667508e+168]\n",
      "[3.2592097079865376e+169, 5.791599036289361e+172]\n",
      "[-1.060409517368473e+174, -1.9416115864410643e+177]\n",
      "[3.6210006281703655e+178, 6.753169776754077e+181]\n",
      "[-1.2493005607932855e+183, -2.3112054942814314e+186]\n",
      "[4.543706321001776e+187, 8.932941119030315e+190]\n",
      "[-1.520341595766382e+192, -2.5876094004647753e+195]\n",
      "[5.149192193106923e+196, 1.0246936251320288e+200]\n",
      "[-1.9724842513764436e+201, -3.7970288364868585e+204]\n",
      "[6.925585321811144e+205, 1.2632247705227328e+209]\n",
      "[-2.4707990878477796e+210, -4.8328921578020993e+213]\n",
      "[8.974436127928802e+214, 1.6665503427738619e+218]\n",
      "[-3.2980142814318066e+219, -6.526781212010239e+222]\n",
      "[1.176093324062859e+224, 2.119314332366503e+227]\n",
      "[-3.9312116533007816e+228, -7.292403850751326e+231]\n",
      "[1.39062249534291e+233, 2.6519191427866504e+236]\n",
      "[-4.333098207686347e+237, -7.080244507160951e+240]\n",
      "[1.3303350452232866e+242, 2.499710166444807e+245]\n",
      "[-4.716821380911873e+246, -8.900643008987093e+249]\n",
      "[1.539764544023096e+251, 2.663785255739756e+254]\n",
      "[-5.202220167769884e+255, -1.0159970325144458e+259]\n",
      "[1.8094392129285672e+260, 3.222602290063715e+263]\n",
      "[-6.093761796028405e+264, -1.1523323461015875e+268]\n",
      "[2.263120399501737e+269, 4.4447729128684755e+272]\n",
      "[-8.035925377546653e+273, -1.452891777748129e+277]\n",
      "[2.75024457961597e+278, 5.2062198201026535e+281]\n",
      "[-1.0625622378616133e+283, -2.1686935977692215e+286]\n",
      "[4.105231786915588e+287, 7.771188046303058e+290]\n",
      "[-1.42364100828803e+292, -2.608107823149544e+295]\n",
      "[4.824858532366836e+296, 8.925990847682865e+299]\n",
      "[-1.726238863842396e+301, -3.3385500155267327e+304]\n",
      "[6.212870681247729e+305, inf]\n",
      "[-inf, nan]\n",
      "[nan, nan]\n",
      "[nan, nan]\n",
      "[nan, nan]\n",
      "[nan, nan]\n",
      "[nan, nan]\n",
      "[nan, nan]\n",
      "[nan, nan]\n",
      "[nan, nan]\n",
      "[nan, nan]\n",
      "[nan, nan]\n",
      "[nan, nan]\n",
      "[nan, nan]\n",
      "[nan, nan]\n",
      "[nan, nan]\n",
      "None\n"
     ]
    },
    {
     "name": "stderr",
     "output_type": "stream",
     "text": [
      "C:\\Users\\Admin\\AppData\\Local\\Temp\\ipykernel_9860\\793952600.py:7: RuntimeWarning: overflow encountered in scalar multiply\n",
      "  beta[1] += alpha * (Y[i] - h) * X[i]\n",
      "C:\\Users\\Admin\\AppData\\Local\\Temp\\ipykernel_9860\\793952600.py:7: RuntimeWarning: invalid value encountered in scalar add\n",
      "  beta[1] += alpha * (Y[i] - h) * X[i]\n"
     ]
    }
   ],
   "source": [
    "print(stochastic_gradient_descent(X, Y, 1, 0.01))"
   ]
  }
 ],
 "metadata": {
  "kernelspec": {
   "display_name": ".venv",
   "language": "python",
   "name": "python3"
  },
  "language_info": {
   "codemirror_mode": {
    "name": "ipython",
    "version": 3
   },
   "file_extension": ".py",
   "mimetype": "text/x-python",
   "name": "python",
   "nbconvert_exporter": "python",
   "pygments_lexer": "ipython3",
   "version": "3.8.10"
  },
  "orig_nbformat": 4
 },
 "nbformat": 4,
 "nbformat_minor": 2
}
